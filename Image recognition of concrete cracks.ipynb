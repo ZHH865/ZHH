{
 "cells": [
  {
   "cell_type": "code",
   "execution_count": 1,
   "metadata": {
    "execution": {
     "iopub.execute_input": "2021-02-09T16:22:47.953729Z",
     "iopub.status.busy": "2021-02-09T16:22:47.952883Z",
     "iopub.status.idle": "2021-02-09T16:22:58.579792Z",
     "shell.execute_reply": "2021-02-09T16:22:58.579060Z"
    },
    "papermill": {
     "duration": 10.6466,
     "end_time": "2021-02-09T16:22:58.580057",
     "exception": false,
     "start_time": "2021-02-09T16:22:47.933457",
     "status": "completed"
    },
    "tags": []
   },
   "outputs": [],
   "source": [
    "import numpy as np\n",
    "import pandas as pd\n",
    "\n",
    "import matplotlib.pyplot as plt\n",
    "import seaborn as sns\n",
    "import plotly.express as px\n",
    "\n",
    "from pathlib import Path\n",
    "from sklearn.model_selection import train_test_split\n",
    "\n",
    "import tensorflow as tf\n",
    "\n",
    "from sklearn.metrics import confusion_matrix, classification_report"
   ]
  },
  {
   "cell_type": "code",
   "execution_count": 3,
   "metadata": {
    "execution": {
     "iopub.execute_input": "2021-02-09T16:22:58.683136Z",
     "iopub.status.busy": "2021-02-09T16:22:58.682083Z",
     "iopub.status.idle": "2021-02-09T16:22:58.685280Z",
     "shell.execute_reply": "2021-02-09T16:22:58.684681Z"
    },
    "papermill": {
     "duration": 0.022782,
     "end_time": "2021-02-09T16:22:58.685425",
     "exception": false,
     "start_time": "2021-02-09T16:22:58.662643",
     "status": "completed"
    },
    "tags": []
   },
   "outputs": [],
   "source": [
    "def generate_df(image_dir, label):\n",
    "    filepaths = pd.Series(list(image_dir.glob(r'*.jpg')), name='Filepath').astype(str)\n",
    "    labels = pd.Series(label, name='Label', index=filepaths.index)\n",
    "    df = pd.concat([filepaths, labels], axis=1)\n",
    "    return df"
   ]
  },
  {
   "cell_type": "code",
   "execution_count": 4,
   "metadata": {
    "execution": {
     "iopub.execute_input": "2021-02-09T16:22:58.717791Z",
     "iopub.status.busy": "2021-02-09T16:22:58.717113Z",
     "iopub.status.idle": "2021-02-09T16:23:01.807189Z",
     "shell.execute_reply": "2021-02-09T16:23:01.808158Z"
    },
    "papermill": {
     "duration": 3.109748,
     "end_time": "2021-02-09T16:23:01.808444",
     "exception": false,
     "start_time": "2021-02-09T16:22:58.698696",
     "status": "completed"
    },
    "tags": []
   },
   "outputs": [
    {
     "data": {
      "text/html": [
       "<div>\n",
       "<style scoped>\n",
       "    .dataframe tbody tr th:only-of-type {\n",
       "        vertical-align: middle;\n",
       "    }\n",
       "\n",
       "    .dataframe tbody tr th {\n",
       "        vertical-align: top;\n",
       "    }\n",
       "\n",
       "    .dataframe thead th {\n",
       "        text-align: right;\n",
       "    }\n",
       "</style>\n",
       "<table border=\"1\" class=\"dataframe\">\n",
       "  <thead>\n",
       "    <tr style=\"text-align: right;\">\n",
       "      <th></th>\n",
       "      <th>Filepath</th>\n",
       "      <th>Label</th>\n",
       "    </tr>\n",
       "  </thead>\n",
       "  <tbody>\n",
       "    <tr>\n",
       "      <th>0</th>\n",
       "      <td>../input/surface-crack-detection/Positive/0574...</td>\n",
       "      <td>POSITIVE</td>\n",
       "    </tr>\n",
       "    <tr>\n",
       "      <th>1</th>\n",
       "      <td>../input/surface-crack-detection/Positive/1870...</td>\n",
       "      <td>POSITIVE</td>\n",
       "    </tr>\n",
       "    <tr>\n",
       "      <th>2</th>\n",
       "      <td>../input/surface-crack-detection/Positive/0967...</td>\n",
       "      <td>POSITIVE</td>\n",
       "    </tr>\n",
       "    <tr>\n",
       "      <th>3</th>\n",
       "      <td>../input/surface-crack-detection/Negative/0791...</td>\n",
       "      <td>NEGATIVE</td>\n",
       "    </tr>\n",
       "    <tr>\n",
       "      <th>4</th>\n",
       "      <td>../input/surface-crack-detection/Positive/1400...</td>\n",
       "      <td>POSITIVE</td>\n",
       "    </tr>\n",
       "    <tr>\n",
       "      <th>...</th>\n",
       "      <td>...</td>\n",
       "      <td>...</td>\n",
       "    </tr>\n",
       "    <tr>\n",
       "      <th>39995</th>\n",
       "      <td>../input/surface-crack-detection/Positive/0854...</td>\n",
       "      <td>POSITIVE</td>\n",
       "    </tr>\n",
       "    <tr>\n",
       "      <th>39996</th>\n",
       "      <td>../input/surface-crack-detection/Negative/1944...</td>\n",
       "      <td>NEGATIVE</td>\n",
       "    </tr>\n",
       "    <tr>\n",
       "      <th>39997</th>\n",
       "      <td>../input/surface-crack-detection/Positive/0977...</td>\n",
       "      <td>POSITIVE</td>\n",
       "    </tr>\n",
       "    <tr>\n",
       "      <th>39998</th>\n",
       "      <td>../input/surface-crack-detection/Positive/1504...</td>\n",
       "      <td>POSITIVE</td>\n",
       "    </tr>\n",
       "    <tr>\n",
       "      <th>39999</th>\n",
       "      <td>../input/surface-crack-detection/Negative/1099...</td>\n",
       "      <td>NEGATIVE</td>\n",
       "    </tr>\n",
       "  </tbody>\n",
       "</table>\n",
       "<p>40000 rows × 2 columns</p>\n",
       "</div>"
      ],
      "text/plain": [
       "                                                Filepath     Label\n",
       "0      ../input/surface-crack-detection/Positive/0574...  POSITIVE\n",
       "1      ../input/surface-crack-detection/Positive/1870...  POSITIVE\n",
       "2      ../input/surface-crack-detection/Positive/0967...  POSITIVE\n",
       "3      ../input/surface-crack-detection/Negative/0791...  NEGATIVE\n",
       "4      ../input/surface-crack-detection/Positive/1400...  POSITIVE\n",
       "...                                                  ...       ...\n",
       "39995  ../input/surface-crack-detection/Positive/0854...  POSITIVE\n",
       "39996  ../input/surface-crack-detection/Negative/1944...  NEGATIVE\n",
       "39997  ../input/surface-crack-detection/Positive/0977...  POSITIVE\n",
       "39998  ../input/surface-crack-detection/Positive/1504...  POSITIVE\n",
       "39999  ../input/surface-crack-detection/Negative/1099...  NEGATIVE\n",
       "\n",
       "[40000 rows x 2 columns]"
      ]
     },
     "execution_count": 4,
     "metadata": {},
     "output_type": "execute_result"
    }
   ],
   "source": [
    "positive_df = generate_df(positive_dir, label=\"POSITIVE\")\n",
    "negative_df = generate_df(negative_dir, label=\"NEGATIVE\")\n",
    "\n",
    "all_df = pd.concat([positive_df, negative_df], axis=0).sample(frac=1.0, random_state=1).reset_index(drop=True)\n",
    "all_df"
   ]
  },
  {
   "cell_type": "code",
   "execution_count": 5,
   "metadata": {
    "execution": {
     "iopub.execute_input": "2021-02-09T16:23:01.858730Z",
     "iopub.status.busy": "2021-02-09T16:23:01.856857Z",
     "iopub.status.idle": "2021-02-09T16:23:01.865313Z",
     "shell.execute_reply": "2021-02-09T16:23:01.864637Z"
    },
    "papermill": {
     "duration": 0.034507,
     "end_time": "2021-02-09T16:23:01.865465",
     "exception": false,
     "start_time": "2021-02-09T16:23:01.830958",
     "status": "completed"
    },
    "tags": []
   },
   "outputs": [],
   "source": [
    "train_df, test_df = train_test_split(\n",
    "    all_df.sample(6000, random_state=1),\n",
    "    train_size=0.7,\n",
    "    shuffle=True,\n",
    "    random_state=1\n",
    ")"
   ]
  },
  {
   "cell_type": "code",
   "execution_count": 6,
   "metadata": {
    "execution": {
     "iopub.execute_input": "2021-02-09T16:23:01.930876Z",
     "iopub.status.busy": "2021-02-09T16:23:01.929860Z",
     "iopub.status.idle": "2021-02-09T16:23:01.933081Z",
     "shell.execute_reply": "2021-02-09T16:23:01.932514Z"
    },
    "papermill": {
     "duration": 0.023993,
     "end_time": "2021-02-09T16:23:01.933248",
     "exception": false,
     "start_time": "2021-02-09T16:23:01.909255",
     "status": "completed"
    },
    "tags": []
   },
   "outputs": [],
   "source": [
    "train_gen = tf.keras.preprocessing.image.ImageDataGenerator(\n",
    "    rescale=1./255,\n",
    "    validation_split=0.2\n",
    ")\n",
    "\n",
    "test_gen = tf.keras.preprocessing.image.ImageDataGenerator(\n",
    "    rescale=1./255\n",
    ")"
   ]
  },
  {
   "cell_type": "code",
   "execution_count": 7,
   "metadata": {
    "execution": {
     "iopub.execute_input": "2021-02-09T16:23:01.980480Z",
     "iopub.status.busy": "2021-02-09T16:23:01.979479Z",
     "iopub.status.idle": "2021-02-09T16:23:27.800128Z",
     "shell.execute_reply": "2021-02-09T16:23:27.799545Z"
    },
    "papermill": {
     "duration": 25.852071,
     "end_time": "2021-02-09T16:23:27.800289",
     "exception": false,
     "start_time": "2021-02-09T16:23:01.948218",
     "status": "completed"
    },
    "tags": []
   },
   "outputs": [
    {
     "name": "stdout",
     "output_type": "stream",
     "text": [
      "Found 3360 validated image filenames belonging to 2 classes.\n",
      "Found 840 validated image filenames belonging to 2 classes.\n",
      "Found 1800 validated image filenames belonging to 2 classes.\n"
     ]
    }
   ],
   "source": [
    "train_data = train_gen.flow_from_dataframe(\n",
    "    train_df,\n",
    "    x_col='Filepath',\n",
    "    y_col='Label',\n",
    "    target_size=(120, 120),\n",
    "    color_mode='rgb',\n",
    "    class_mode='binary',\n",
    "    batch_size=32,\n",
    "    shuffle=True,\n",
    "    seed=42,\n",
    "    subset='training'\n",
    ")\n",
    "\n",
    "val_data = train_gen.flow_from_dataframe(\n",
    "    train_df,\n",
    "    x_col='Filepath',\n",
    "    y_col='Label',\n",
    "    target_size=(120, 120),\n",
    "    color_mode='rgb',\n",
    "    class_mode='binary',\n",
    "    batch_size=32,\n",
    "    shuffle=True,\n",
    "    seed=42,\n",
    "    subset='validation'\n",
    ")\n",
    "\n",
    "test_data = train_gen.flow_from_dataframe(\n",
    "    test_df,\n",
    "    x_col='Filepath',\n",
    "    y_col='Label',\n",
    "    target_size=(120, 120),\n",
    "    color_mode='rgb',\n",
    "    class_mode='binary',\n",
    "    batch_size=32,\n",
    "    shuffle=False,\n",
    "    seed=42\n",
    ")"
   ]
  },
  {
   "cell_type": "code",
   "execution_count": 8,
   "metadata": {
    "execution": {
     "iopub.execute_input": "2021-02-09T16:23:27.876087Z",
     "iopub.status.busy": "2021-02-09T16:23:27.875352Z",
     "iopub.status.idle": "2021-02-09T16:23:31.019331Z",
     "shell.execute_reply": "2021-02-09T16:23:31.018607Z"
    },
    "papermill": {
     "duration": 3.169177,
     "end_time": "2021-02-09T16:23:31.019505",
     "exception": false,
     "start_time": "2021-02-09T16:23:27.850328",
     "status": "completed"
    },
    "tags": []
   },
   "outputs": [
    {
     "name": "stdout",
     "output_type": "stream",
     "text": [
      "Model: \"model\"\n",
      "_________________________________________________________________\n",
      "Layer (type)                 Output Shape              Param #   \n",
      "=================================================================\n",
      "input_1 (InputLayer)         [(None, 120, 120, 3)]     0         \n",
      "_________________________________________________________________\n",
      "conv2d (Conv2D)              (None, 118, 118, 16)      448       \n",
      "_________________________________________________________________\n",
      "max_pooling2d (MaxPooling2D) (None, 59, 59, 16)        0         \n",
      "_________________________________________________________________\n",
      "conv2d_1 (Conv2D)            (None, 57, 57, 32)        4640      \n",
      "_________________________________________________________________\n",
      "max_pooling2d_1 (MaxPooling2 (None, 28, 28, 32)        0         \n",
      "_________________________________________________________________\n",
      "global_average_pooling2d (Gl (None, 32)                0         \n",
      "_________________________________________________________________\n",
      "dense (Dense)                (None, 1)                 33        \n",
      "=================================================================\n",
      "Total params: 5,121\n",
      "Trainable params: 5,121\n",
      "Non-trainable params: 0\n",
      "_________________________________________________________________\n",
      "None\n"
     ]
    }
   ],
   "source": [
    "inputs = tf.keras.Input(shape=(120, 120, 3))\n",
    "x = tf.keras.layers.Conv2D(filters=16, kernel_size=(3, 3), activation='relu')(inputs)\n",
    "x = tf.keras.layers.MaxPool2D(pool_size=(2, 2))(x)\n",
    "x = tf.keras.layers.Conv2D(filters=32, kernel_size=(3, 3), activation='relu')(x)\n",
    "x = tf.keras.layers.MaxPool2D(pool_size=(2, 2))(x)\n",
    "x = tf.keras.layers.GlobalAveragePooling2D()(x)\n",
    "outputs = tf.keras.layers.Dense(1, activation='sigmoid')(x)\n",
    "\n",
    "model = tf.keras.Model(inputs=inputs, outputs=outputs)\n",
    "\n",
    "model.compile(\n",
    "    optimizer='adam',\n",
    "    loss='binary_crossentropy',\n",
    "    metrics=['accuracy']\n",
    ")\n",
    "\n",
    "print(model.summary())"
   ]
  },
  {
   "cell_type": "code",
   "execution_count": 9,
   "metadata": {
    "execution": {
     "iopub.execute_input": "2021-02-09T16:23:31.061344Z",
     "iopub.status.busy": "2021-02-09T16:23:31.060482Z",
     "iopub.status.idle": "2021-02-09T16:27:41.806083Z",
     "shell.execute_reply": "2021-02-09T16:27:41.806971Z"
    },
    "papermill": {
     "duration": 250.769703,
     "end_time": "2021-02-09T16:27:41.807227",
     "exception": false,
     "start_time": "2021-02-09T16:23:31.037524",
     "status": "completed"
    },
    "tags": []
   },
   "outputs": [
    {
     "name": "stdout",
     "output_type": "stream",
     "text": [
      "Epoch 1/100\n",
      "105/105 [==============================] - 44s 386ms/step - loss: 0.6857 - accuracy: 0.5471 - val_loss: 0.6396 - val_accuracy: 0.7857\n",
      "Epoch 2/100\n",
      "105/105 [==============================] - 8s 76ms/step - loss: 0.6254 - accuracy: 0.7250 - val_loss: 0.5556 - val_accuracy: 0.8048\n",
      "Epoch 3/100\n",
      "105/105 [==============================] - 8s 81ms/step - loss: 0.5395 - accuracy: 0.8011 - val_loss: 0.4688 - val_accuracy: 0.8738\n",
      "Epoch 4/100\n",
      "105/105 [==============================] - 8s 78ms/step - loss: 0.4359 - accuracy: 0.8723 - val_loss: 0.3775 - val_accuracy: 0.9179\n",
      "Epoch 5/100\n",
      "105/105 [==============================] - 8s 77ms/step - loss: 0.3400 - accuracy: 0.9243 - val_loss: 0.2847 - val_accuracy: 0.9262\n",
      "Epoch 6/100\n",
      "105/105 [==============================] - 8s 77ms/step - loss: 0.2753 - accuracy: 0.9352 - val_loss: 0.2371 - val_accuracy: 0.9512\n",
      "Epoch 7/100\n",
      "105/105 [==============================] - 9s 83ms/step - loss: 0.2112 - accuracy: 0.9497 - val_loss: 0.2007 - val_accuracy: 0.9631\n",
      "Epoch 8/100\n",
      "105/105 [==============================] - 8s 77ms/step - loss: 0.1713 - accuracy: 0.9553 - val_loss: 0.1990 - val_accuracy: 0.9548\n",
      "Epoch 9/100\n",
      "105/105 [==============================] - 8s 74ms/step - loss: 0.1562 - accuracy: 0.9571 - val_loss: 0.1559 - val_accuracy: 0.9667\n",
      "Epoch 10/100\n",
      "105/105 [==============================] - 8s 78ms/step - loss: 0.1416 - accuracy: 0.9563 - val_loss: 0.1698 - val_accuracy: 0.9690\n",
      "Epoch 11/100\n",
      "105/105 [==============================] - 9s 83ms/step - loss: 0.1327 - accuracy: 0.9648 - val_loss: 0.1375 - val_accuracy: 0.9714\n",
      "Epoch 12/100\n",
      "105/105 [==============================] - 8s 78ms/step - loss: 0.1213 - accuracy: 0.9634 - val_loss: 0.1309 - val_accuracy: 0.9750\n",
      "Epoch 13/100\n",
      "105/105 [==============================] - 8s 76ms/step - loss: 0.0997 - accuracy: 0.9686 - val_loss: 0.1269 - val_accuracy: 0.9750\n",
      "Epoch 14/100\n",
      "105/105 [==============================] - 8s 78ms/step - loss: 0.0988 - accuracy: 0.9716 - val_loss: 0.1204 - val_accuracy: 0.9786\n",
      "Epoch 15/100\n",
      "105/105 [==============================] - 9s 84ms/step - loss: 0.0875 - accuracy: 0.9741 - val_loss: 0.1191 - val_accuracy: 0.9786\n",
      "Epoch 16/100\n",
      "105/105 [==============================] - 8s 76ms/step - loss: 0.0903 - accuracy: 0.9704 - val_loss: 0.1160 - val_accuracy: 0.9786\n",
      "Epoch 17/100\n",
      "105/105 [==============================] - 8s 73ms/step - loss: 0.0831 - accuracy: 0.9756 - val_loss: 0.1293 - val_accuracy: 0.9774\n",
      "Epoch 18/100\n",
      "105/105 [==============================] - 8s 75ms/step - loss: 0.0727 - accuracy: 0.9769 - val_loss: 0.1132 - val_accuracy: 0.9750\n",
      "Epoch 19/100\n",
      "105/105 [==============================] - 9s 83ms/step - loss: 0.0716 - accuracy: 0.9761 - val_loss: 0.1101 - val_accuracy: 0.9821\n",
      "Epoch 20/100\n",
      "105/105 [==============================] - 8s 73ms/step - loss: 0.0843 - accuracy: 0.9712 - val_loss: 0.1078 - val_accuracy: 0.9762\n",
      "Epoch 21/100\n",
      "105/105 [==============================] - 8s 77ms/step - loss: 0.0757 - accuracy: 0.9765 - val_loss: 0.1081 - val_accuracy: 0.9774\n",
      "Epoch 22/100\n",
      "105/105 [==============================] - 8s 81ms/step - loss: 0.0602 - accuracy: 0.9766 - val_loss: 0.1202 - val_accuracy: 0.9821\n",
      "Epoch 23/100\n",
      "105/105 [==============================] - 8s 81ms/step - loss: 0.0644 - accuracy: 0.9795 - val_loss: 0.1065 - val_accuracy: 0.9810\n",
      "Epoch 24/100\n",
      "105/105 [==============================] - 8s 78ms/step - loss: 0.0629 - accuracy: 0.9787 - val_loss: 0.1644 - val_accuracy: 0.9738\n",
      "Epoch 25/100\n",
      "105/105 [==============================] - 8s 74ms/step - loss: 0.0671 - accuracy: 0.9772 - val_loss: 0.1070 - val_accuracy: 0.9821\n",
      "Epoch 26/100\n",
      "105/105 [==============================] - 9s 84ms/step - loss: 0.0544 - accuracy: 0.9794 - val_loss: 0.1078 - val_accuracy: 0.9821\n"
     ]
    }
   ],
   "source": [
    "history = model.fit(\n",
    "    train_data,\n",
    "    validation_data=val_data,\n",
    "    epochs=100,\n",
    "    callbacks=[\n",
    "        tf.keras.callbacks.EarlyStopping(\n",
    "            monitor='val_loss',\n",
    "            patience=3,\n",
    "            restore_best_weights=True\n",
    "        )\n",
    "    ]\n",
    ")"
   ]
  },
  {
   "cell_type": "code",
   "execution_count": 10,
   "metadata": {
    "execution": {
     "iopub.execute_input": "2021-02-09T16:27:44.009988Z",
     "iopub.status.busy": "2021-02-09T16:27:44.009261Z",
     "iopub.status.idle": "2021-02-09T16:27:45.214394Z",
     "shell.execute_reply": "2021-02-09T16:27:45.213793Z"
    },
    "papermill": {
     "duration": 2.264669,
     "end_time": "2021-02-09T16:27:45.214568",
     "exception": false,
     "start_time": "2021-02-09T16:27:42.949899",
     "status": "completed"
    },
    "tags": []
   },
   "outputs": [
    {
     "data": {
      "text/html": [
       "        <script type=\"text/javascript\">\n",
       "        window.PlotlyConfig = {MathJaxConfig: 'local'};\n",
       "        if (window.MathJax) {MathJax.Hub.Config({SVG: {font: \"STIX-Web\"}});}\n",
       "        if (typeof require !== 'undefined') {\n",
       "        require.undef(\"plotly\");\n",
       "        requirejs.config({\n",
       "            paths: {\n",
       "                'plotly': ['https://cdn.plot.ly/plotly-latest.min']\n",
       "            }\n",
       "        });\n",
       "        require(['plotly'], function(Plotly) {\n",
       "            window._Plotly = Plotly;\n",
       "        });\n",
       "        }\n",
       "        </script>\n",
       "        "
      ]
     },
     "metadata": {},
     "output_type": "display_data"
    },
    {
     "data": {
      "text/html": [
       "<div>                            <div id=\"8e326cb9-6b8f-4570-9261-d9ef983ee2c3\" class=\"plotly-graph-div\" style=\"height:525px; width:100%;\"></div>            <script type=\"text/javascript\">                require([\"plotly\"], function(Plotly) {                    window.PLOTLYENV=window.PLOTLYENV || {};                                    if (document.getElementById(\"8e326cb9-6b8f-4570-9261-d9ef983ee2c3\")) {                    Plotly.newPlot(                        \"8e326cb9-6b8f-4570-9261-d9ef983ee2c3\",                        [{\"hovertemplate\": \"variable=loss<br>Epoch=%{x}<br>Loss=%{y}<extra></extra>\", \"legendgroup\": \"loss\", \"line\": {\"color\": \"#636efa\", \"dash\": \"solid\"}, \"mode\": \"lines\", \"name\": \"loss\", \"orientation\": \"v\", \"showlegend\": true, \"type\": \"scatter\", \"x\": [0, 1, 2, 3, 4, 5, 6, 7, 8, 9, 10, 11, 12, 13, 14, 15, 16, 17, 18, 19, 20, 21, 22, 23, 24, 25], \"xaxis\": \"x\", \"y\": [0.675132155418396, 0.6113523244857788, 0.5247004628181458, 0.4115182161331177, 0.31779131293296814, 0.2499825656414032, 0.20165736973285675, 0.16913622617721558, 0.14584384858608246, 0.13222002983093262, 0.1226339042186737, 0.11238766461610794, 0.09833779186010361, 0.09955509006977081, 0.0866992399096489, 0.08992443978786469, 0.07730880379676819, 0.07306193560361862, 0.07740966230630875, 0.08352116495370865, 0.07514945417642593, 0.06560705602169037, 0.0661756843328476, 0.06020742654800415, 0.06355807930231094, 0.05932840332388878], \"yaxis\": \"y\"}, {\"hovertemplate\": \"variable=val_loss<br>Epoch=%{x}<br>Loss=%{y}<extra></extra>\", \"legendgroup\": \"val_loss\", \"line\": {\"color\": \"#EF553B\", \"dash\": \"solid\"}, \"mode\": \"lines\", \"name\": \"val_loss\", \"orientation\": \"v\", \"showlegend\": true, \"type\": \"scatter\", \"x\": [0, 1, 2, 3, 4, 5, 6, 7, 8, 9, 10, 11, 12, 13, 14, 15, 16, 17, 18, 19, 20, 21, 22, 23, 24, 25], \"xaxis\": \"x\", \"y\": [0.6395922899246216, 0.5556235313415527, 0.46876010298728943, 0.37751665711402893, 0.2847185432910919, 0.23707590997219086, 0.20072424411773682, 0.199037104845047, 0.1558568924665451, 0.16980114579200745, 0.13748721778392792, 0.13090218603610992, 0.12686479091644287, 0.12041806429624557, 0.11909240484237671, 0.1160377785563469, 0.12926314771175385, 0.11316101998090744, 0.11013785004615784, 0.10776902735233307, 0.10811495780944824, 0.12021749466657639, 0.1065048798918724, 0.16436712443828583, 0.10695771127939224, 0.10777899622917175], \"yaxis\": \"y\"}],                        {\"legend\": {\"title\": {\"text\": \"variable\"}, \"tracegroupgap\": 0}, \"template\": {\"data\": {\"bar\": [{\"error_x\": {\"color\": \"#2a3f5f\"}, \"error_y\": {\"color\": \"#2a3f5f\"}, \"marker\": {\"line\": {\"color\": \"#E5ECF6\", \"width\": 0.5}}, \"type\": \"bar\"}], \"barpolar\": [{\"marker\": {\"line\": {\"color\": \"#E5ECF6\", \"width\": 0.5}}, \"type\": \"barpolar\"}], \"carpet\": [{\"aaxis\": {\"endlinecolor\": \"#2a3f5f\", \"gridcolor\": \"white\", \"linecolor\": \"white\", \"minorgridcolor\": \"white\", \"startlinecolor\": \"#2a3f5f\"}, \"baxis\": {\"endlinecolor\": \"#2a3f5f\", \"gridcolor\": \"white\", \"linecolor\": \"white\", \"minorgridcolor\": \"white\", \"startlinecolor\": \"#2a3f5f\"}, \"type\": \"carpet\"}], \"choropleth\": [{\"colorbar\": {\"outlinewidth\": 0, \"ticks\": \"\"}, \"type\": \"choropleth\"}], \"contour\": [{\"colorbar\": {\"outlinewidth\": 0, \"ticks\": \"\"}, \"colorscale\": [[0.0, \"#0d0887\"], [0.1111111111111111, \"#46039f\"], [0.2222222222222222, \"#7201a8\"], [0.3333333333333333, \"#9c179e\"], [0.4444444444444444, \"#bd3786\"], [0.5555555555555556, \"#d8576b\"], [0.6666666666666666, \"#ed7953\"], [0.7777777777777778, \"#fb9f3a\"], [0.8888888888888888, \"#fdca26\"], [1.0, \"#f0f921\"]], \"type\": \"contour\"}], \"contourcarpet\": [{\"colorbar\": {\"outlinewidth\": 0, \"ticks\": \"\"}, \"type\": \"contourcarpet\"}], \"heatmap\": [{\"colorbar\": {\"outlinewidth\": 0, \"ticks\": \"\"}, \"colorscale\": [[0.0, \"#0d0887\"], [0.1111111111111111, \"#46039f\"], [0.2222222222222222, \"#7201a8\"], [0.3333333333333333, \"#9c179e\"], [0.4444444444444444, \"#bd3786\"], [0.5555555555555556, \"#d8576b\"], [0.6666666666666666, \"#ed7953\"], [0.7777777777777778, \"#fb9f3a\"], [0.8888888888888888, \"#fdca26\"], [1.0, \"#f0f921\"]], \"type\": \"heatmap\"}], \"heatmapgl\": [{\"colorbar\": {\"outlinewidth\": 0, \"ticks\": \"\"}, \"colorscale\": [[0.0, \"#0d0887\"], [0.1111111111111111, \"#46039f\"], [0.2222222222222222, \"#7201a8\"], [0.3333333333333333, \"#9c179e\"], [0.4444444444444444, \"#bd3786\"], [0.5555555555555556, \"#d8576b\"], [0.6666666666666666, \"#ed7953\"], [0.7777777777777778, \"#fb9f3a\"], [0.8888888888888888, \"#fdca26\"], [1.0, \"#f0f921\"]], \"type\": \"heatmapgl\"}], \"histogram\": [{\"marker\": {\"colorbar\": {\"outlinewidth\": 0, \"ticks\": \"\"}}, \"type\": \"histogram\"}], \"histogram2d\": [{\"colorbar\": {\"outlinewidth\": 0, \"ticks\": \"\"}, \"colorscale\": [[0.0, \"#0d0887\"], [0.1111111111111111, \"#46039f\"], [0.2222222222222222, \"#7201a8\"], [0.3333333333333333, \"#9c179e\"], [0.4444444444444444, \"#bd3786\"], [0.5555555555555556, \"#d8576b\"], [0.6666666666666666, \"#ed7953\"], [0.7777777777777778, \"#fb9f3a\"], [0.8888888888888888, \"#fdca26\"], [1.0, \"#f0f921\"]], \"type\": \"histogram2d\"}], \"histogram2dcontour\": [{\"colorbar\": {\"outlinewidth\": 0, \"ticks\": \"\"}, \"colorscale\": [[0.0, \"#0d0887\"], [0.1111111111111111, \"#46039f\"], [0.2222222222222222, \"#7201a8\"], [0.3333333333333333, \"#9c179e\"], [0.4444444444444444, \"#bd3786\"], [0.5555555555555556, \"#d8576b\"], [0.6666666666666666, \"#ed7953\"], [0.7777777777777778, \"#fb9f3a\"], [0.8888888888888888, \"#fdca26\"], [1.0, \"#f0f921\"]], \"type\": \"histogram2dcontour\"}], \"mesh3d\": [{\"colorbar\": {\"outlinewidth\": 0, \"ticks\": \"\"}, \"type\": \"mesh3d\"}], \"parcoords\": [{\"line\": {\"colorbar\": {\"outlinewidth\": 0, \"ticks\": \"\"}}, \"type\": \"parcoords\"}], \"pie\": [{\"automargin\": true, \"type\": \"pie\"}], \"scatter\": [{\"marker\": {\"colorbar\": {\"outlinewidth\": 0, \"ticks\": \"\"}}, \"type\": \"scatter\"}], \"scatter3d\": [{\"line\": {\"colorbar\": {\"outlinewidth\": 0, \"ticks\": \"\"}}, \"marker\": {\"colorbar\": {\"outlinewidth\": 0, \"ticks\": \"\"}}, \"type\": \"scatter3d\"}], \"scattercarpet\": [{\"marker\": {\"colorbar\": {\"outlinewidth\": 0, \"ticks\": \"\"}}, \"type\": \"scattercarpet\"}], \"scattergeo\": [{\"marker\": {\"colorbar\": {\"outlinewidth\": 0, \"ticks\": \"\"}}, \"type\": \"scattergeo\"}], \"scattergl\": [{\"marker\": {\"colorbar\": {\"outlinewidth\": 0, \"ticks\": \"\"}}, \"type\": \"scattergl\"}], \"scattermapbox\": [{\"marker\": {\"colorbar\": {\"outlinewidth\": 0, \"ticks\": \"\"}}, \"type\": \"scattermapbox\"}], \"scatterpolar\": [{\"marker\": {\"colorbar\": {\"outlinewidth\": 0, \"ticks\": \"\"}}, \"type\": \"scatterpolar\"}], \"scatterpolargl\": [{\"marker\": {\"colorbar\": {\"outlinewidth\": 0, \"ticks\": \"\"}}, \"type\": \"scatterpolargl\"}], \"scatterternary\": [{\"marker\": {\"colorbar\": {\"outlinewidth\": 0, \"ticks\": \"\"}}, \"type\": \"scatterternary\"}], \"surface\": [{\"colorbar\": {\"outlinewidth\": 0, \"ticks\": \"\"}, \"colorscale\": [[0.0, \"#0d0887\"], [0.1111111111111111, \"#46039f\"], [0.2222222222222222, \"#7201a8\"], [0.3333333333333333, \"#9c179e\"], [0.4444444444444444, \"#bd3786\"], [0.5555555555555556, \"#d8576b\"], [0.6666666666666666, \"#ed7953\"], [0.7777777777777778, \"#fb9f3a\"], [0.8888888888888888, \"#fdca26\"], [1.0, \"#f0f921\"]], \"type\": \"surface\"}], \"table\": [{\"cells\": {\"fill\": {\"color\": \"#EBF0F8\"}, \"line\": {\"color\": \"white\"}}, \"header\": {\"fill\": {\"color\": \"#C8D4E3\"}, \"line\": {\"color\": \"white\"}}, \"type\": \"table\"}]}, \"layout\": {\"annotationdefaults\": {\"arrowcolor\": \"#2a3f5f\", \"arrowhead\": 0, \"arrowwidth\": 1}, \"autotypenumbers\": \"strict\", \"coloraxis\": {\"colorbar\": {\"outlinewidth\": 0, \"ticks\": \"\"}}, \"colorscale\": {\"diverging\": [[0, \"#8e0152\"], [0.1, \"#c51b7d\"], [0.2, \"#de77ae\"], [0.3, \"#f1b6da\"], [0.4, \"#fde0ef\"], [0.5, \"#f7f7f7\"], [0.6, \"#e6f5d0\"], [0.7, \"#b8e186\"], [0.8, \"#7fbc41\"], [0.9, \"#4d9221\"], [1, \"#276419\"]], \"sequential\": [[0.0, \"#0d0887\"], [0.1111111111111111, \"#46039f\"], [0.2222222222222222, \"#7201a8\"], [0.3333333333333333, \"#9c179e\"], [0.4444444444444444, \"#bd3786\"], [0.5555555555555556, \"#d8576b\"], [0.6666666666666666, \"#ed7953\"], [0.7777777777777778, \"#fb9f3a\"], [0.8888888888888888, \"#fdca26\"], [1.0, \"#f0f921\"]], \"sequentialminus\": [[0.0, \"#0d0887\"], [0.1111111111111111, \"#46039f\"], [0.2222222222222222, \"#7201a8\"], [0.3333333333333333, \"#9c179e\"], [0.4444444444444444, \"#bd3786\"], [0.5555555555555556, \"#d8576b\"], [0.6666666666666666, \"#ed7953\"], [0.7777777777777778, \"#fb9f3a\"], [0.8888888888888888, \"#fdca26\"], [1.0, \"#f0f921\"]]}, \"colorway\": [\"#636efa\", \"#EF553B\", \"#00cc96\", \"#ab63fa\", \"#FFA15A\", \"#19d3f3\", \"#FF6692\", \"#B6E880\", \"#FF97FF\", \"#FECB52\"], \"font\": {\"color\": \"#2a3f5f\"}, \"geo\": {\"bgcolor\": \"white\", \"lakecolor\": \"white\", \"landcolor\": \"#E5ECF6\", \"showlakes\": true, \"showland\": true, \"subunitcolor\": \"white\"}, \"hoverlabel\": {\"align\": \"left\"}, \"hovermode\": \"closest\", \"mapbox\": {\"style\": \"light\"}, \"paper_bgcolor\": \"white\", \"plot_bgcolor\": \"#E5ECF6\", \"polar\": {\"angularaxis\": {\"gridcolor\": \"white\", \"linecolor\": \"white\", \"ticks\": \"\"}, \"bgcolor\": \"#E5ECF6\", \"radialaxis\": {\"gridcolor\": \"white\", \"linecolor\": \"white\", \"ticks\": \"\"}}, \"scene\": {\"xaxis\": {\"backgroundcolor\": \"#E5ECF6\", \"gridcolor\": \"white\", \"gridwidth\": 2, \"linecolor\": \"white\", \"showbackground\": true, \"ticks\": \"\", \"zerolinecolor\": \"white\"}, \"yaxis\": {\"backgroundcolor\": \"#E5ECF6\", \"gridcolor\": \"white\", \"gridwidth\": 2, \"linecolor\": \"white\", \"showbackground\": true, \"ticks\": \"\", \"zerolinecolor\": \"white\"}, \"zaxis\": {\"backgroundcolor\": \"#E5ECF6\", \"gridcolor\": \"white\", \"gridwidth\": 2, \"linecolor\": \"white\", \"showbackground\": true, \"ticks\": \"\", \"zerolinecolor\": \"white\"}}, \"shapedefaults\": {\"line\": {\"color\": \"#2a3f5f\"}}, \"ternary\": {\"aaxis\": {\"gridcolor\": \"white\", \"linecolor\": \"white\", \"ticks\": \"\"}, \"baxis\": {\"gridcolor\": \"white\", \"linecolor\": \"white\", \"ticks\": \"\"}, \"bgcolor\": \"#E5ECF6\", \"caxis\": {\"gridcolor\": \"white\", \"linecolor\": \"white\", \"ticks\": \"\"}}, \"title\": {\"x\": 0.05}, \"xaxis\": {\"automargin\": true, \"gridcolor\": \"white\", \"linecolor\": \"white\", \"ticks\": \"\", \"title\": {\"standoff\": 15}, \"zerolinecolor\": \"white\", \"zerolinewidth\": 2}, \"yaxis\": {\"automargin\": true, \"gridcolor\": \"white\", \"linecolor\": \"white\", \"ticks\": \"\", \"title\": {\"standoff\": 15}, \"zerolinecolor\": \"white\", \"zerolinewidth\": 2}}}, \"title\": {\"text\": \"Training and Validation Loss Over Time\"}, \"xaxis\": {\"anchor\": \"y\", \"domain\": [0.0, 1.0], \"title\": {\"text\": \"Epoch\"}}, \"yaxis\": {\"anchor\": \"x\", \"domain\": [0.0, 1.0], \"title\": {\"text\": \"Loss\"}}},                        {\"responsive\": true}                    ).then(function(){\n",
       "                            \n",
       "var gd = document.getElementById('8e326cb9-6b8f-4570-9261-d9ef983ee2c3');\n",
       "var x = new MutationObserver(function (mutations, observer) {{\n",
       "        var display = window.getComputedStyle(gd).display;\n",
       "        if (!display || display === 'none') {{\n",
       "            console.log([gd, 'removed!']);\n",
       "            Plotly.purge(gd);\n",
       "            observer.disconnect();\n",
       "        }}\n",
       "}});\n",
       "\n",
       "// Listen for the removal of the full notebook cells\n",
       "var notebookContainer = gd.closest('#notebook-container');\n",
       "if (notebookContainer) {{\n",
       "    x.observe(notebookContainer, {childList: true});\n",
       "}}\n",
       "\n",
       "// Listen for the clearing of the current output cell\n",
       "var outputEl = gd.closest('.output');\n",
       "if (outputEl) {{\n",
       "    x.observe(outputEl, {childList: true});\n",
       "}}\n",
       "\n",
       "                        })                };                });            </script>        </div>"
      ]
     },
     "metadata": {},
     "output_type": "display_data"
    }
   ],
   "source": [
    "fig = px.line(\n",
    "    history.history,\n",
    "    y=['loss', 'val_loss'],\n",
    "    labels={'index': \"Epoch\", 'value': \"Loss\"},\n",
    "    title=\"Training and Validation Loss Over Time\"\n",
    ")\n",
    "\n",
    "fig.show()"
   ]
  },
  {
   "cell_type": "code",
   "execution_count": 11,
   "metadata": {
    "execution": {
     "iopub.execute_input": "2021-02-09T16:27:49.702266Z",
     "iopub.status.busy": "2021-02-09T16:27:49.701207Z",
     "iopub.status.idle": "2021-02-09T16:27:49.704771Z",
     "shell.execute_reply": "2021-02-09T16:27:49.704219Z"
    },
    "papermill": {
     "duration": 1.060446,
     "end_time": "2021-02-09T16:27:49.704945",
     "exception": false,
     "start_time": "2021-02-09T16:27:48.644499",
     "status": "completed"
    },
    "tags": []
   },
   "outputs": [],
   "source": [
    "def evaluate_model(model, test_data):\n",
    "    \n",
    "    results = model.evaluate(test_data, verbose=0)\n",
    "    loss = results[0]\n",
    "    acc = results[1]\n",
    "    \n",
    "    print(\"    Test Loss: {:.5f}\".format(loss))\n",
    "    print(\"Test Accuracy: {:.2f}%\".format(acc * 100))\n",
    "    \n",
    "    y_pred = np.squeeze((model.predict(test_data) >= 0.5).astype(np.int))\n",
    "    cm = confusion_matrix(test_data.labels, y_pred)\n",
    "    clr = classification_report(test_data.labels, y_pred, target_names=[\"NEGATIVE\", \"POSITIVE\"])\n",
    "    \n",
    "    plt.figure(figsize=(6, 6))\n",
    "    sns.heatmap(cm, annot=True, fmt='g', vmin=0, cmap='Blues', cbar=False)\n",
    "    plt.xticks(ticks=np.arange(2) + 0.5, labels=[\"NEGATIVE\", \"POSITIVE\"])\n",
    "    plt.yticks(ticks=np.arange(2) + 0.5, labels=[\"NEGATIVE\", \"POSITIVE\"])\n",
    "    plt.xlabel(\"Predicted\")\n",
    "    plt.ylabel(\"Actual\")\n",
    "    plt.title(\"Confusion Matrix\")\n",
    "    plt.show()\n",
    "    \n",
    "    print(\"Classification Report:\\n----------------------\\n\", clr)"
   ]
  },
  {
   "cell_type": "code",
   "execution_count": 12,
   "metadata": {
    "execution": {
     "iopub.execute_input": "2021-02-09T16:27:51.820280Z",
     "iopub.status.busy": "2021-02-09T16:27:51.817163Z",
     "iopub.status.idle": "2021-02-09T16:28:14.081140Z",
     "shell.execute_reply": "2021-02-09T16:28:14.077581Z"
    },
    "papermill": {
     "duration": 23.320332,
     "end_time": "2021-02-09T16:28:14.081374",
     "exception": false,
     "start_time": "2021-02-09T16:27:50.761042",
     "status": "completed"
    },
    "scrolled": true,
    "tags": []
   },
   "outputs": [
    {
     "name": "stdout",
     "output_type": "stream",
     "text": [
      "    Test Loss: 0.10731\n",
      "Test Accuracy: 97.17%\n"
     ]
    },
    {
     "data": {
      "image/png": "[encoded data removed]",
      "text/plain": [
       "<Figure size 432x432 with 1 Axes>"
      ]
     },
     "metadata": {
      "needs_background": "light"
     },
     "output_type": "display_data"
    },
    {
     "name": "stdout",
     "output_type": "stream",
     "text": [
      "Classification Report:\n",
      "----------------------\n",
      "               precision    recall  f1-score   support\n",
      "\n",
      "    NEGATIVE       0.97      0.98      0.97       917\n",
      "    POSITIVE       0.98      0.96      0.97       883\n",
      "\n",
      "    accuracy                           0.97      1800\n",
      "   macro avg       0.97      0.97      0.97      1800\n",
      "weighted avg       0.97      0.97      0.97      1800\n",
      "\n"
     ]
    }
   ],
   "source": [
    "evaluate_model(model, test_data)"
   ]
  }
 ],
 "metadata": {
  "kernelspec": {
   "display_name": "Python 3",
   "language": "python",
   "name": "python3"
  },
  "language_info": {
   "codemirror_mode": {
    "name": "ipython",
    "version": 3
   },
   "file_extension": ".py",
   "mimetype": "text/x-python",
   "name": "python",
   "nbconvert_exporter": "python",
   "pygments_lexer": "ipython3",
   "version": "3.8.3"
  },
  "papermill": {
   "default_parameters": {},
   "duration": 339.134212,
   "end_time": "2021-02-09T16:28:20.611597",
   "environment_variables": {},
   "exception": null,
   "input_path": "__notebook__.ipynb",
   "output_path": "__notebook__.ipynb",
   "parameters": {},
   "start_time": "2021-02-09T16:22:41.477385",
   "version": "2.2.2"
  }
 },
 "nbformat": 4,
 "nbformat_minor": 4
}
